{
 "cells": [
  {
   "cell_type": "code",
   "execution_count": 2,
   "id": "a379f88d",
   "metadata": {},
   "outputs": [],
   "source": [
    "import pandas as pd\n",
    "import numpy as np\n",
    "\n",
    "from sklearn.model_selection import train_test_split\n",
    "from sklearn.preprocessing import OneHotEncoder, StandardScaler\n",
    "from sklearn.compose import ColumnTransformer\n",
    "from sklearn.pipeline import Pipeline\n",
    "\n",
    "from sklearn.metrics import mean_absolute_error, mean_squared_error, r2_score\n",
    "\n",
    "import matplotlib.pyplot as plt"
   ]
  },
  {
   "cell_type": "code",
   "execution_count": 3,
   "id": "e351adbc",
   "metadata": {},
   "outputs": [],
   "source": [
    "df = pd.read_csv(\"Live_Trains.csv\")\n",
    "trains = pd.read_csv(\"Trains.csv\")\n",
    "stations = pd.read_csv(\"Stations.csv\")\n",
    "block_rel = pd.read_csv(\"Block_Relation.csv\")"
   ]
  },
  {
   "cell_type": "code",
   "execution_count": 4,
   "id": "50a55ff7",
   "metadata": {},
   "outputs": [],
   "source": [
    "features = ['TrainNo', 'TrainType', 'HaltStation', 'PFNo', 'BlockNo', \n",
    "            'BlockLen', 'ApproachingBlockNo', 'CurrentSpeed', 'CurrentDelay', \n",
    "            'DFNS', 'RunningStatus']\n",
    "target = 'DwellTime'"
   ]
  },
  {
   "cell_type": "code",
   "execution_count": 5,
   "id": "1b18f797",
   "metadata": {},
   "outputs": [],
   "source": [
    "X = df[features]\n",
    "y = df[target]"
   ]
  },
  {
   "cell_type": "code",
   "execution_count": 6,
   "id": "ba580cbe",
   "metadata": {},
   "outputs": [
    {
     "name": "stderr",
     "output_type": "stream",
     "text": [
      "C:\\Users\\Nick\\AppData\\Local\\Temp\\ipykernel_7704\\134205048.py:2: SettingWithCopyWarning: \n",
      "A value is trying to be set on a copy of a slice from a DataFrame.\n",
      "Try using .loc[row_indexer,col_indexer] = value instead\n",
      "\n",
      "See the caveats in the documentation: https://pandas.pydata.org/pandas-docs/stable/user_guide/indexing.html#returning-a-view-versus-a-copy\n",
      "  X[numeric_cols] = X[numeric_cols].fillna(X[numeric_cols].median())\n"
     ]
    }
   ],
   "source": [
    "numeric_cols = ['BlockLen', 'CurrentSpeed', 'CurrentDelay', 'DFNS']\n",
    "X[numeric_cols] = X[numeric_cols].fillna(X[numeric_cols].median())"
   ]
  },
  {
   "cell_type": "code",
   "execution_count": 7,
   "id": "d5d2ad5d",
   "metadata": {},
   "outputs": [
    {
     "name": "stderr",
     "output_type": "stream",
     "text": [
      "C:\\Users\\Nick\\AppData\\Local\\Temp\\ipykernel_7704\\63648242.py:3: SettingWithCopyWarning: \n",
      "A value is trying to be set on a copy of a slice from a DataFrame.\n",
      "Try using .loc[row_indexer,col_indexer] = value instead\n",
      "\n",
      "See the caveats in the documentation: https://pandas.pydata.org/pandas-docs/stable/user_guide/indexing.html#returning-a-view-versus-a-copy\n",
      "  X[cols] = X[cols].astype(str).fillna('Unknown')\n",
      "C:\\Users\\Nick\\AppData\\Local\\Temp\\ipykernel_7704\\63648242.py:3: SettingWithCopyWarning: \n",
      "A value is trying to be set on a copy of a slice from a DataFrame.\n",
      "Try using .loc[row_indexer,col_indexer] = value instead\n",
      "\n",
      "See the caveats in the documentation: https://pandas.pydata.org/pandas-docs/stable/user_guide/indexing.html#returning-a-view-versus-a-copy\n",
      "  X[cols] = X[cols].astype(str).fillna('Unknown')\n",
      "C:\\Users\\Nick\\AppData\\Local\\Temp\\ipykernel_7704\\63648242.py:3: SettingWithCopyWarning: \n",
      "A value is trying to be set on a copy of a slice from a DataFrame.\n",
      "Try using .loc[row_indexer,col_indexer] = value instead\n",
      "\n",
      "See the caveats in the documentation: https://pandas.pydata.org/pandas-docs/stable/user_guide/indexing.html#returning-a-view-versus-a-copy\n",
      "  X[cols] = X[cols].astype(str).fillna('Unknown')\n",
      "C:\\Users\\Nick\\AppData\\Local\\Temp\\ipykernel_7704\\63648242.py:3: SettingWithCopyWarning: \n",
      "A value is trying to be set on a copy of a slice from a DataFrame.\n",
      "Try using .loc[row_indexer,col_indexer] = value instead\n",
      "\n",
      "See the caveats in the documentation: https://pandas.pydata.org/pandas-docs/stable/user_guide/indexing.html#returning-a-view-versus-a-copy\n",
      "  X[cols] = X[cols].astype(str).fillna('Unknown')\n",
      "C:\\Users\\Nick\\AppData\\Local\\Temp\\ipykernel_7704\\63648242.py:3: SettingWithCopyWarning: \n",
      "A value is trying to be set on a copy of a slice from a DataFrame.\n",
      "Try using .loc[row_indexer,col_indexer] = value instead\n",
      "\n",
      "See the caveats in the documentation: https://pandas.pydata.org/pandas-docs/stable/user_guide/indexing.html#returning-a-view-versus-a-copy\n",
      "  X[cols] = X[cols].astype(str).fillna('Unknown')\n",
      "C:\\Users\\Nick\\AppData\\Local\\Temp\\ipykernel_7704\\63648242.py:3: SettingWithCopyWarning: \n",
      "A value is trying to be set on a copy of a slice from a DataFrame.\n",
      "Try using .loc[row_indexer,col_indexer] = value instead\n",
      "\n",
      "See the caveats in the documentation: https://pandas.pydata.org/pandas-docs/stable/user_guide/indexing.html#returning-a-view-versus-a-copy\n",
      "  X[cols] = X[cols].astype(str).fillna('Unknown')\n",
      "C:\\Users\\Nick\\AppData\\Local\\Temp\\ipykernel_7704\\63648242.py:3: SettingWithCopyWarning: \n",
      "A value is trying to be set on a copy of a slice from a DataFrame.\n",
      "Try using .loc[row_indexer,col_indexer] = value instead\n",
      "\n",
      "See the caveats in the documentation: https://pandas.pydata.org/pandas-docs/stable/user_guide/indexing.html#returning-a-view-versus-a-copy\n",
      "  X[cols] = X[cols].astype(str).fillna('Unknown')\n"
     ]
    }
   ],
   "source": [
    "categorical_cols = ['TrainNo', 'TrainType', 'HaltStation', 'PFNo', 'BlockNo', 'ApproachingBlockNo', 'RunningStatus']\n",
    "for cols in categorical_cols:\n",
    "    X[cols] = X[cols].astype(str).fillna('Unknown')"
   ]
  },
  {
   "cell_type": "code",
   "execution_count": 8,
   "id": "b349ca12",
   "metadata": {},
   "outputs": [],
   "source": [
    "X_train, X_test, y_train, y_test = train_test_split(X, y, test_size=0.2, random_state=42)\n"
   ]
  },
  {
   "cell_type": "code",
   "execution_count": 9,
   "id": "50af1c6d",
   "metadata": {},
   "outputs": [],
   "source": [
    "preprocessor = ColumnTransformer(\n",
    "    transformers=[\n",
    "        ('num', StandardScaler(), numeric_cols),\n",
    "        ('cat', OneHotEncoder(handle_unknown='ignore'), categorical_cols)\n",
    "    ])\n"
   ]
  },
  {
   "cell_type": "code",
   "execution_count": 11,
   "id": "c8b78123",
   "metadata": {},
   "outputs": [
    {
     "name": "stdout",
     "output_type": "stream",
     "text": [
      "{'model__n_estimators': 500, 'model__min_samples_split': 20, 'model__min_samples_leaf': 2, 'model__max_features': 'sqrt', 'model__max_depth': None, 'model__bootstrap': True}\n"
     ]
    }
   ],
   "source": [
    "from sklearn.model_selection import RandomizedSearchCV\n",
    "from sklearn.ensemble import RandomForestRegressor\n",
    "from sklearn.pipeline import Pipeline\n",
    "import numpy as np\n",
    "\n",
    "rf_pipeline = Pipeline(steps=[\n",
    "    (\"preprocessor\", preprocessor),\n",
    "    (\"model\", RandomForestRegressor(random_state=42))\n",
    "])\n",
    "\n",
    "rf_params = {\n",
    "    \"model__n_estimators\": [200, 300, 500, 700],\n",
    "    \"model__max_depth\": [None, 10, 20, 30],\n",
    "    \"model__max_features\": [\"sqrt\", \"log2\", 0.8],\n",
    "    \"model__min_samples_split\": [2, 5, 10, 20],\n",
    "    \"model__min_samples_leaf\": [1, 2, 4, 8],\n",
    "    \"model__bootstrap\": [True, False]\n",
    "}\n",
    "\n",
    "rf_random = RandomizedSearchCV(\n",
    "    estimator=rf_pipeline,\n",
    "    param_distributions=rf_params,\n",
    "    n_iter=50,  # number of random combinations\n",
    "    cv=5,\n",
    "    n_jobs=-1,\n",
    "    scoring=\"neg_mean_squared_error\",\n",
    "    random_state=42\n",
    ")\n",
    "\n",
    "rf_random.fit(X_train, y_train)\n",
    "print(rf_random.best_params_)\n"
   ]
  },
  {
   "cell_type": "code",
   "execution_count": null,
   "id": "33f683d7",
   "metadata": {},
   "outputs": [
    {
     "name": "stdout",
     "output_type": "stream",
     "text": [
      "{'model__subsample': 1.0, 'model__reg_lambda': 1.5, 'model__reg_alpha': 0.5, 'model__n_estimators': 300, 'model__max_depth': 3, 'model__learning_rate': 0.01, 'model__colsample_bytree': 0.7}\n"
     ]
    }
   ],
   "source": [
    "from xgboost import XGBRegressor\n",
    "\n",
    "xgb_pipeline = Pipeline(steps=[\n",
    "    (\"preprocessor\", preprocessor),\n",
    "    (\"model\", XGBRegressor(objective='reg:squarederror', random_state=42))\n",
    "])\n",
    "\n",
    "xgb_params = {\n",
    "    \"model__n_estimators\": [200, 300, 500],\n",
    "    \"model__learning_rate\": [0.01, 0.05, 0.1],\n",
    "    \"model__max_depth\": [3, 5, 7, 10],\n",
    "    \"model__subsample\": [0.6, 0.7, 0.8, 1.0],\n",
    "    \"model__colsample_bytree\": [0.6, 0.7, 0.8, 1.0],\n",
    "    \"model__reg_alpha\": [0, 0.1, 0.5],\n",
    "    \"model__reg_lambda\": [1, 1.5, 2]\n",
    "}\n",
    "\n",
    "xgb_random = RandomizedSearchCV(\n",
    "    estimator=xgb_pipeline,\n",
    "    param_distributions=xgb_params,\n",
    "    n_iter=50,\n",
    "    cv=5,\n",
    "    n_jobs=-1,\n",
    "    scoring=\"neg_mean_squared_error\",\n",
    "    random_state=42\n",
    ")\n",
    "\n",
    "xgb_random.fit(X_train, y_train)\n",
    "print(xgb_random.best_params_)\n"
   ]
  },
  {
   "cell_type": "code",
   "execution_count": 13,
   "id": "b78af883",
   "metadata": {},
   "outputs": [],
   "source": [
    "best_rf_model = rf_random.best_estimator_\n",
    "# best_xgb_model = xgb_random.best_estimator_"
   ]
  },
  {
   "cell_type": "code",
   "execution_count": null,
   "id": "68b77474",
   "metadata": {},
   "outputs": [
    {
     "name": "stdout",
     "output_type": "stream",
     "text": [
      "RF RMSE: 27.931286648112067\n",
      "RF MAE: 10.136002029864143\n",
      "RF R2: 0.8550573386036646\n",
      "XGB RMSE: 29.362194061279297\n",
      "XGB MAE: 11.017355918884277\n",
      "XGB R2: 0.839826226234436\n"
     ]
    }
   ],
   "source": [
    "# Comparing \n",
    "from sklearn.metrics import root_mean_squared_error, mean_absolute_error, r2_score\n",
    "\n",
    "# Random Forest\n",
    "y_pred_rf = best_rf_model.predict(X_test)\n",
    "print(\"RF RMSE:\", root_mean_squared_error(y_test, y_pred_rf ))\n",
    "print(\"RF MAE:\", mean_absolute_error(y_test, y_pred_rf))\n",
    "print(\"RF R2:\", r2_score(y_test, y_pred_rf))\n",
    "\n",
    "# XGBoost\n",
    "y_pred_xgb = best_xgb_model.predict(X_test)\n",
    "print(\"XGB RMSE:\", root_mean_squared_error(y_test, y_pred_xgb))\n",
    "print(\"XGB MAE:\", mean_absolute_error(y_test, y_pred_xgb))\n",
    "print(\"XGB R2:\", r2_score(y_test, y_pred_xgb))\n"
   ]
  },
  {
   "cell_type": "code",
   "execution_count": null,
   "id": "d54313d9",
   "metadata": {},
   "outputs": [],
   "source": [
    "\n",
    "y_pred_rf = best_rf_model.predict(X_test)\n",
    "y_pred_xgb = best_xgb_model.predict(X_test)\n"
   ]
  },
  {
   "cell_type": "code",
   "execution_count": null,
   "id": "10b6c5e8",
   "metadata": {},
   "outputs": [],
   "source": [
    "y_pred_ensemble = 0.8*y_pred_rf + 0.2*y_pred_xgb\n",
    "\n",
    "\n"
   ]
  },
  {
   "cell_type": "code",
   "execution_count": null,
   "id": "5e5c83cc",
   "metadata": {},
   "outputs": [
    {
     "name": "stdout",
     "output_type": "stream",
     "text": [
      "Ensemble RMSE: 28.13319785157287\n",
      "Ensemble MAE: 10.269836679439267\n",
      "Ensemble R2: 0.8529542256497432\n"
     ]
    }
   ],
   "source": [
    "from sklearn.metrics import mean_absolute_error, mean_squared_error, r2_score\n",
    "\n",
    "rmse = lambda y_true, y_pred: root_mean_squared_error(y_true, y_pred)\n",
    "\n",
    "print(\"Ensemble RMSE:\", rmse(y_test, y_pred_ensemble))\n",
    "print(\"Ensemble MAE:\", mean_absolute_error(y_test, y_pred_ensemble))\n",
    "print(\"Ensemble R2:\", r2_score(y_test, y_pred_ensemble))\n"
   ]
  },
  {
   "cell_type": "code",
   "execution_count": null,
   "id": "14107cff",
   "metadata": {},
   "outputs": [],
   "source": [
    "import joblib\n",
    "\n",
    "class EnsembleModel:\n",
    "    def __init__(self, rf_model, xgb_model, rf_weight=0.6, xgb_weight=0.4):\n",
    "        self.rf_model = rf_model\n",
    "        self.xgb_model = xgb_model\n",
    "        self.rf_weight = rf_weight\n",
    "        self.xgb_weight = xgb_weight\n",
    "\n",
    "    def predict(self, X):\n",
    "        y_rf = self.rf_model.predict(X)\n",
    "        y_xgb = self.xgb_model.predict(X)\n",
    "        return self.rf_weight * y_rf + self.xgb_weight * y_xgb\n"
   ]
  },
  {
   "cell_type": "code",
   "execution_count": null,
   "id": "c8ae06c8",
   "metadata": {},
   "outputs": [],
   "source": [
    "\n",
    "best_rf_model = rf_random.best_estimator_\n",
    "best_xgb_model = xgb_random.best_estimator_\n",
    "\n",
    "ensemble_model = EnsembleModel(best_rf_model, best_xgb_model)\n"
   ]
  },
  {
   "cell_type": "code",
   "execution_count": null,
   "id": "57c9b30e",
   "metadata": {},
   "outputs": [
    {
     "data": {
      "text/plain": [
       "['ensemble_dwell_time_model.pkl']"
      ]
     },
     "execution_count": 74,
     "metadata": {},
     "output_type": "execute_result"
    }
   ],
   "source": [
    "joblib.dump(ensemble_model, \"ensemble_dwell_time_model.pkl\")\n"
   ]
  },
  {
   "cell_type": "code",
   "execution_count": 15,
   "id": "f0dd6805",
   "metadata": {},
   "outputs": [
    {
     "data": {
      "text/plain": [
       "['rf_model.pkl']"
      ]
     },
     "execution_count": 15,
     "metadata": {},
     "output_type": "execute_result"
    }
   ],
   "source": [
    "import joblib\n",
    "joblib.dump(best_rf_model,'rf_model.pkl')\n"
   ]
  },
  {
   "cell_type": "code",
   "execution_count": null,
   "id": "7f97bc46",
   "metadata": {},
   "outputs": [
    {
     "data": {
      "text/plain": [
       "['TrainNo',\n",
       " 'TrainType',\n",
       " 'HaltStation',\n",
       " 'PFNo',\n",
       " 'BlockNo',\n",
       " 'ApproachingBlockNo',\n",
       " 'RunningStatus']"
      ]
     },
     "execution_count": 17,
     "metadata": {},
     "output_type": "execute_result"
    }
   ],
   "source": []
  },
  {
   "cell_type": "code",
   "execution_count": null,
   "id": "066cd6d9",
   "metadata": {},
   "outputs": [],
   "source": []
  }
 ],
 "metadata": {
  "kernelspec": {
   "display_name": "venv",
   "language": "python",
   "name": "python3"
  },
  "language_info": {
   "codemirror_mode": {
    "name": "ipython",
    "version": 3
   },
   "file_extension": ".py",
   "mimetype": "text/x-python",
   "name": "python",
   "nbconvert_exporter": "python",
   "pygments_lexer": "ipython3",
   "version": "3.13.5"
  }
 },
 "nbformat": 4,
 "nbformat_minor": 5
}
