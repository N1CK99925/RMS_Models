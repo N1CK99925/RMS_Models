{
 "cells": [
  {
   "cell_type": "code",
   "execution_count": 107,
   "id": "cfd3a913",
   "metadata": {},
   "outputs": [],
   "source": [
    "import pandas as pd\n",
    "\n",
    "df_blocks = pd.read_csv(\"Blocks.csv\")\n",
    "df_Block_Relation = pd.read_csv(\"Block_Relation.csv\")\n",
    "df_live = pd.read_csv('Live_Trains.csv')\n",
    "df_stations = pd.read_csv('Stations.csv')\n",
    "df_trains = pd.read_csv('Trains.csv')"
   ]
  },
  {
   "cell_type": "code",
   "execution_count": 108,
   "id": "c46529a2",
   "metadata": {},
   "outputs": [],
   "source": [
    "df_ml = (\n",
    "    df_live\n",
    "    .merge(df_stations, left_on=\"halt_station\", right_on=\"Station_name\", how=\"left\")\n",
    "    .merge(df_blocks, on=\"block_no\", how=\"left\")\n",
    "    .merge(df_trains[[\"Train no\", \"Train type\"]], \n",
    "           left_on=\"Train_no\", right_on=\"Train no\", how=\"left\")\n",
    ")\n"
   ]
  },
  {
   "cell_type": "code",
   "execution_count": 109,
   "id": "065b23b5",
   "metadata": {},
   "outputs": [],
   "source": [
    "drop_cols = [\"Train_no\", \"Train name\", \"block_no\", \"halt_station\", \n",
    "             \"Station_name\", \"Train no\"]\n",
    "df_ml = df_ml.drop(columns=drop_cols, errors=\"ignore\")\n"
   ]
  },
  {
   "cell_type": "code",
   "execution_count": 110,
   "id": "f4ae5e57",
   "metadata": {},
   "outputs": [
    {
     "data": {
      "text/html": [
       "<div>\n",
       "<style scoped>\n",
       "    .dataframe tbody tr th:only-of-type {\n",
       "        vertical-align: middle;\n",
       "    }\n",
       "\n",
       "    .dataframe tbody tr th {\n",
       "        vertical-align: top;\n",
       "    }\n",
       "\n",
       "    .dataframe thead th {\n",
       "        text-align: right;\n",
       "    }\n",
       "</style>\n",
       "<table border=\"1\" class=\"dataframe\">\n",
       "  <thead>\n",
       "    <tr style=\"text-align: right;\">\n",
       "      <th></th>\n",
       "      <th>Train_type</th>\n",
       "      <th>Train_name</th>\n",
       "      <th>IB(boolean)</th>\n",
       "      <th>ETA_NS</th>\n",
       "      <th>ETA_DS</th>\n",
       "      <th>current_speed</th>\n",
       "      <th>DFNS</th>\n",
       "      <th>current delay</th>\n",
       "      <th>dwell time</th>\n",
       "      <th>time_delay</th>\n",
       "      <th>...</th>\n",
       "      <th>running_status(bool)</th>\n",
       "      <th>PF_no</th>\n",
       "      <th>Total_platforms</th>\n",
       "      <th>free_platforms</th>\n",
       "      <th>starter_signal</th>\n",
       "      <th>home_signal</th>\n",
       "      <th>block_type</th>\n",
       "      <th>block_status</th>\n",
       "      <th>adv_starter_signal(bool)</th>\n",
       "      <th>Train type</th>\n",
       "    </tr>\n",
       "  </thead>\n",
       "  <tbody>\n",
       "    <tr>\n",
       "      <th>0</th>\n",
       "      <td>Superfast</td>\n",
       "      <td>Train_14939</td>\n",
       "      <td>False</td>\n",
       "      <td>2025-09-11 10:12:00</td>\n",
       "      <td>2025-09-11 12:09:00</td>\n",
       "      <td>48</td>\n",
       "      <td>13.69</td>\n",
       "      <td>0</td>\n",
       "      <td>34</td>\n",
       "      <td>41</td>\n",
       "      <td>...</td>\n",
       "      <td>True</td>\n",
       "      <td>4</td>\n",
       "      <td>6</td>\n",
       "      <td>3</td>\n",
       "      <td>False</td>\n",
       "      <td>False</td>\n",
       "      <td>Yard</td>\n",
       "      <td>Under_Maintenance</td>\n",
       "      <td>False</td>\n",
       "      <td>Superfast</td>\n",
       "    </tr>\n",
       "    <tr>\n",
       "      <th>1</th>\n",
       "      <td>Express</td>\n",
       "      <td>Train_20751</td>\n",
       "      <td>False</td>\n",
       "      <td>2025-09-11 10:01:00</td>\n",
       "      <td>2025-09-11 11:36:00</td>\n",
       "      <td>74</td>\n",
       "      <td>5.12</td>\n",
       "      <td>28</td>\n",
       "      <td>65</td>\n",
       "      <td>23</td>\n",
       "      <td>...</td>\n",
       "      <td>False</td>\n",
       "      <td>4</td>\n",
       "      <td>6</td>\n",
       "      <td>3</td>\n",
       "      <td>True</td>\n",
       "      <td>False</td>\n",
       "      <td>Yard</td>\n",
       "      <td>Under_Maintenance</td>\n",
       "      <td>False</td>\n",
       "      <td>Express</td>\n",
       "    </tr>\n",
       "    <tr>\n",
       "      <th>2</th>\n",
       "      <td>Passenger</td>\n",
       "      <td>Train_12745</td>\n",
       "      <td>False</td>\n",
       "      <td>2025-09-11 10:20:00</td>\n",
       "      <td>2025-09-11 12:45:00</td>\n",
       "      <td>62</td>\n",
       "      <td>6.14</td>\n",
       "      <td>43</td>\n",
       "      <td>169</td>\n",
       "      <td>29</td>\n",
       "      <td>...</td>\n",
       "      <td>False</td>\n",
       "      <td>2</td>\n",
       "      <td>6</td>\n",
       "      <td>2</td>\n",
       "      <td>False</td>\n",
       "      <td>False</td>\n",
       "      <td>Main</td>\n",
       "      <td>Occupied</td>\n",
       "      <td>True</td>\n",
       "      <td>Passenger</td>\n",
       "    </tr>\n",
       "    <tr>\n",
       "      <th>3</th>\n",
       "      <td>Vande Bharat</td>\n",
       "      <td>Train_14068</td>\n",
       "      <td>True</td>\n",
       "      <td>2025-09-11 10:00:00</td>\n",
       "      <td>2025-09-11 12:13:00</td>\n",
       "      <td>49</td>\n",
       "      <td>7.18</td>\n",
       "      <td>0</td>\n",
       "      <td>30</td>\n",
       "      <td>48</td>\n",
       "      <td>...</td>\n",
       "      <td>False</td>\n",
       "      <td>1</td>\n",
       "      <td>5</td>\n",
       "      <td>3</td>\n",
       "      <td>True</td>\n",
       "      <td>True</td>\n",
       "      <td>Main</td>\n",
       "      <td>Free</td>\n",
       "      <td>True</td>\n",
       "      <td>Vande Bharat</td>\n",
       "    </tr>\n",
       "    <tr>\n",
       "      <th>4</th>\n",
       "      <td>Passenger</td>\n",
       "      <td>Train_13680</td>\n",
       "      <td>False</td>\n",
       "      <td>2025-09-11 10:17:00</td>\n",
       "      <td>2025-09-11 12:25:00</td>\n",
       "      <td>56</td>\n",
       "      <td>11.92</td>\n",
       "      <td>69</td>\n",
       "      <td>153</td>\n",
       "      <td>26</td>\n",
       "      <td>...</td>\n",
       "      <td>False</td>\n",
       "      <td>4</td>\n",
       "      <td>12</td>\n",
       "      <td>10</td>\n",
       "      <td>False</td>\n",
       "      <td>False</td>\n",
       "      <td>Loop</td>\n",
       "      <td>Under_Maintenance</td>\n",
       "      <td>True</td>\n",
       "      <td>Passenger</td>\n",
       "    </tr>\n",
       "  </tbody>\n",
       "</table>\n",
       "<p>5 rows × 23 columns</p>\n",
       "</div>"
      ],
      "text/plain": [
       "     Train_type   Train_name  IB(boolean)               ETA_NS  \\\n",
       "0     Superfast  Train_14939        False  2025-09-11 10:12:00   \n",
       "1       Express  Train_20751        False  2025-09-11 10:01:00   \n",
       "2     Passenger  Train_12745        False  2025-09-11 10:20:00   \n",
       "3  Vande Bharat  Train_14068         True  2025-09-11 10:00:00   \n",
       "4     Passenger  Train_13680        False  2025-09-11 10:17:00   \n",
       "\n",
       "                ETA_DS  current_speed   DFNS  current delay  dwell time  \\\n",
       "0  2025-09-11 12:09:00             48  13.69              0          34   \n",
       "1  2025-09-11 11:36:00             74   5.12             28          65   \n",
       "2  2025-09-11 12:45:00             62   6.14             43         169   \n",
       "3  2025-09-11 12:13:00             49   7.18              0          30   \n",
       "4  2025-09-11 12:25:00             56  11.92             69         153   \n",
       "\n",
       "   time_delay  ...  running_status(bool)  PF_no  Total_platforms  \\\n",
       "0          41  ...                  True      4                6   \n",
       "1          23  ...                 False      4                6   \n",
       "2          29  ...                 False      2                6   \n",
       "3          48  ...                 False      1                5   \n",
       "4          26  ...                 False      4               12   \n",
       "\n",
       "   free_platforms  starter_signal  home_signal  block_type       block_status  \\\n",
       "0               3           False        False        Yard  Under_Maintenance   \n",
       "1               3            True        False        Yard  Under_Maintenance   \n",
       "2               2           False        False        Main           Occupied   \n",
       "3               3            True         True        Main               Free   \n",
       "4              10           False        False        Loop  Under_Maintenance   \n",
       "\n",
       "   adv_starter_signal(bool)    Train type  \n",
       "0                     False     Superfast  \n",
       "1                     False       Express  \n",
       "2                      True     Passenger  \n",
       "3                      True  Vande Bharat  \n",
       "4                      True     Passenger  \n",
       "\n",
       "[5 rows x 23 columns]"
      ]
     },
     "execution_count": 110,
     "metadata": {},
     "output_type": "execute_result"
    }
   ],
   "source": [
    "df_ml.head()\n",
    "\n"
   ]
  },
  {
   "cell_type": "code",
   "execution_count": 111,
   "id": "576867d1",
   "metadata": {},
   "outputs": [
    {
     "name": "stdout",
     "output_type": "stream",
     "text": [
      "Index(['Train_type', 'Train_name', 'IB(boolean)', 'ETA_NS', 'ETA_DS',\n",
      "       'current_speed', 'DFNS', 'current delay', 'dwell time', 'time_delay',\n",
      "       'block_len', 'Approaching_block_no', 'advance_block_no',\n",
      "       'running_status(bool)', 'PF_no', 'Total_platforms', 'free_platforms',\n",
      "       'starter_signal', 'home_signal', 'block_type', 'block_status',\n",
      "       'adv_starter_signal(bool)', 'Train type'],\n",
      "      dtype='object')\n"
     ]
    }
   ],
   "source": [
    "print(df_ml.columns)"
   ]
  },
  {
   "cell_type": "code",
   "execution_count": 112,
   "id": "6a47b44c",
   "metadata": {},
   "outputs": [
    {
     "data": {
      "text/plain": [
       "Index(['Train_type', 'Train_name', 'IB(boolean)', 'ETA_NS', 'ETA_DS',\n",
       "       'current_speed', 'DFNS', 'current delay', 'dwell time', 'time_delay',\n",
       "       'block_len', 'Approaching_block_no', 'advance_block_no',\n",
       "       'running_status(bool)', 'PF_no', 'Total_platforms', 'free_platforms',\n",
       "       'starter_signal', 'home_signal', 'block_type', 'block_status',\n",
       "       'adv_starter_signal(bool)', 'Train type'],\n",
       "      dtype='object')"
      ]
     },
     "execution_count": 112,
     "metadata": {},
     "output_type": "execute_result"
    }
   ],
   "source": [
    "df_ml.columns"
   ]
  },
  {
   "cell_type": "code",
   "execution_count": 113,
   "id": "b0832151",
   "metadata": {},
   "outputs": [],
   "source": [
    "X = df_ml.drop(columns=['dwell time'])\n",
    "y = df_ml['dwell time']"
   ]
  },
  {
   "cell_type": "code",
   "execution_count": 114,
   "id": "f9585456",
   "metadata": {},
   "outputs": [],
   "source": [
    "numeric_cols = X.select_dtypes(include=['int64','float64']).columns.tolist()\n",
    "categorical_cols = X.select_dtypes(include=['object',]).columns.tolist()\n"
   ]
  },
  {
   "cell_type": "code",
   "execution_count": 115,
   "id": "13770b16",
   "metadata": {},
   "outputs": [],
   "source": [
    "# Preprocessing\n",
    "from sklearn.preprocessing import OneHotEncoder, StandardScaler\n",
    "from sklearn.compose import ColumnTransformer\n",
    "\n",
    "preprocessor = ColumnTransformer(\n",
    "    transformers=[\n",
    "        ('num',StandardScaler(),numeric_cols),\n",
    "        ('cat',OneHotEncoder(handle_unknown='ignore'),categorical_cols)\n",
    "    ],\n",
    "    remainder='drop'\n",
    ")"
   ]
  },
  {
   "cell_type": "code",
   "execution_count": 116,
   "id": "b6eef21f",
   "metadata": {},
   "outputs": [],
   "source": [
    "from sklearn.model_selection import train_test_split\n",
    "\n",
    "X_train, X_test, y_train, y_test = train_test_split(\n",
    "    X, y, test_size=0.2, random_state=1\n",
    ")"
   ]
  },
  {
   "cell_type": "code",
   "execution_count": 117,
   "id": "b7ba3420",
   "metadata": {},
   "outputs": [],
   "source": [
    "from sklearn.pipeline import Pipeline\n",
    "from sklearn.ensemble import RandomForestRegressor\n",
    "from sklearn.model_selection import GridSearchCV\n",
    "\n",
    "model = Pipeline(steps=[\n",
    "    (\"preprocessor\", preprocessor),\n",
    "    (\"model\", RandomForestRegressor( random_state=1))\n",
    "])"
   ]
  },
  {
   "cell_type": "code",
   "execution_count": 118,
   "id": "9b00f866",
   "metadata": {},
   "outputs": [
    {
     "name": "stdout",
     "output_type": "stream",
     "text": [
      "Best CV Score: -633.5751369166062\n",
      "Best Params: {'model__max_depth': None, 'model__max_features': 'sqrt', 'model__min_samples_leaf': 1, 'model__min_samples_split': 5, 'model__n_estimators': 200}\n"
     ]
    }
   ],
   "source": [
    "params = {\n",
    "    \"model__n_estimators\": [ 100, 200],\n",
    "    \"model__max_depth\": [5, None],\n",
    "    \"model__max_features\": [\"sqrt\", \"log2\"],\n",
    "    \"model__min_samples_leaf\": [1, 2],\n",
    "    \"model__min_samples_split\": [5, 10]\n",
    "}\n",
    "grid_search = GridSearchCV(\n",
    "    estimator=model,\n",
    "    param_grid=params,\n",
    "    cv=5,\n",
    "    n_jobs=-1,\n",
    "    scoring=\"neg_mean_squared_error\"\n",
    ")\n",
    "grid_search.fit(X_train,y_train)\n",
    "\n",
    "print(\"Best CV Score:\", grid_search.best_score_)\n",
    "print(\"Best Params:\", grid_search.best_params_)\n",
    "\n",
    "best_model = grid_search.best_estimator_"
   ]
  },
  {
   "cell_type": "markdown",
   "id": "31ddc513",
   "metadata": {},
   "source": [
    "Evaluation"
   ]
  },
  {
   "cell_type": "code",
   "execution_count": 119,
   "id": "60a38efe",
   "metadata": {},
   "outputs": [
    {
     "name": "stdout",
     "output_type": "stream",
     "text": [
      "Test RMSE: 24.43763396875237\n",
      "Test MAE: 18.532641407925915\n",
      "Test R2: 0.563677921023507\n"
     ]
    }
   ],
   "source": [
    "from sklearn.metrics import mean_squared_error, mean_absolute_error, r2_score\n",
    "import numpy as np\n",
    "\n",
    "y_pred = best_model.predict(X_test)\n",
    "\n",
    "mse = mean_squared_error(y_test, y_pred)\n",
    "rmse = np.sqrt(mse)\n",
    "mae = mean_absolute_error(y_test, y_pred)\n",
    "r2 = r2_score(y_test, y_pred)\n",
    "\n",
    "print(\"Test RMSE:\", rmse)\n",
    "print(\"Test MAE:\", mae)\n",
    "print(\"Test R2:\", r2)\n"
   ]
  },
  {
   "cell_type": "code",
   "execution_count": 120,
   "id": "532c467a",
   "metadata": {},
   "outputs": [
    {
     "name": "stdout",
     "output_type": "stream",
     "text": [
      "                           feature  importance\n",
      "11       cat__Train_type_Passenger    0.129687\n",
      "1125     cat__Train type_Passenger    0.089877\n",
      "14       cat__Train_type_Superfast    0.045622\n",
      "1128     cat__Train type_Superfast    0.035391\n",
      "15    cat__Train_type_Vande Bharat    0.035127\n",
      "12        cat__Train_type_Rajdhani    0.022684\n",
      "1129  cat__Train type_Vande Bharat    0.022681\n",
      "0               num__current_speed    0.021504\n",
      "5        num__Approaching_block_no    0.019996\n",
      "1                        num__DFNS    0.019850\n"
     ]
    }
   ],
   "source": [
    "# Feature Importance \n",
    "import pandas as pd\n",
    "\n",
    "# Get feature names after preprocessing\n",
    "feature_names = best_model.named_steps['preprocessor'].get_feature_names_out()\n",
    "importances = best_model.named_steps['model'].feature_importances_\n",
    "\n",
    "feat_imp = pd.DataFrame({\"feature\": feature_names, \"importance\": importances})\n",
    "feat_imp = feat_imp.sort_values(by=\"importance\", ascending=False)\n",
    "print(feat_imp.head(10))\n"
   ]
  },
  {
   "cell_type": "code",
   "execution_count": 121,
   "id": "d589f3ea",
   "metadata": {},
   "outputs": [
    {
     "data": {
      "image/png": "[encoded data removed]",
      "text/plain": [
       "<Figure size 640x480 with 1 Axes>"
      ]
     },
     "metadata": {},
     "output_type": "display_data"
    }
   ],
   "source": [
    "# Check Residuals\n",
    "import matplotlib.pyplot as plt\n",
    "\n",
    "residuals = y_test - y_pred\n",
    "plt.scatter(y_pred, residuals)\n",
    "plt.axhline(0, color='red', linestyle='--')\n",
    "plt.xlabel(\"Predicted dwell time\")\n",
    "plt.ylabel(\"Residuals\")\n",
    "plt.title(\"Residual Plot\")\n",
    "plt.show()\n"
   ]
  },
  {
   "cell_type": "code",
   "execution_count": null,
   "id": "cecebfb8",
   "metadata": {},
   "outputs": [],
   "source": []
  }
 ],
 "metadata": {
  "kernelspec": {
   "display_name": "venv",
   "language": "python",
   "name": "python3"
  },
  "language_info": {
   "codemirror_mode": {
    "name": "ipython",
    "version": 3
   },
   "file_extension": ".py",
   "mimetype": "text/x-python",
   "name": "python",
   "nbconvert_exporter": "python",
   "pygments_lexer": "ipython3",
   "version": "3.13.5"
  }
 },
 "nbformat": 4,
 "nbformat_minor": 5
}
