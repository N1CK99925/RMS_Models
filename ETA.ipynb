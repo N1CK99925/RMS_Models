{
 "cells": [
  {
   "cell_type": "code",
   "execution_count": 3,
   "id": "5945ce00",
   "metadata": {},
   "outputs": [],
   "source": [
    "import pandas as pd\n",
    "import numpy as np\n"
   ]
  },
  {
   "cell_type": "code",
   "execution_count": 5,
   "id": "bbdfc255",
   "metadata": {},
   "outputs": [],
   "source": [
    "df = pd.read_csv('Live_Trains.csv')"
   ]
  },
  {
   "cell_type": "code",
   "execution_count": null,
   "id": "18b053b0",
   "metadata": {},
   "outputs": [
    {
     "data": {
      "text/plain": [
       "<bound method NDFrame.describe of 0      2023-09-10 07:39:00\n",
       "1      2023-09-10 06:49:00\n",
       "2      2023-09-10 09:37:00\n",
       "3      2023-09-10 06:45:00\n",
       "4      2023-09-10 08:16:00\n",
       "              ...         \n",
       "995    2023-09-10 06:02:00\n",
       "996    2023-09-10 08:15:00\n",
       "997    2023-09-10 06:35:00\n",
       "998    2023-09-10 08:46:00\n",
       "999    2023-09-10 08:54:00\n",
       "Name: ETADS, Length: 1000, dtype: object>"
      ]
     },
     "execution_count": 8,
     "metadata": {},
     "output_type": "execute_result"
    }
   ],
   "source": []
  },
  {
   "cell_type": "code",
   "execution_count": null,
   "id": "e8492aa4",
   "metadata": {},
   "outputs": [],
   "source": []
  }
 ],
 "metadata": {
  "kernelspec": {
   "display_name": "venv",
   "language": "python",
   "name": "python3"
  },
  "language_info": {
   "codemirror_mode": {
    "name": "ipython",
    "version": 3
   },
   "file_extension": ".py",
   "mimetype": "text/x-python",
   "name": "python",
   "nbconvert_exporter": "python",
   "pygments_lexer": "ipython3",
   "version": "3.13.5"
  }
 },
 "nbformat": 4,
 "nbformat_minor": 5
}
